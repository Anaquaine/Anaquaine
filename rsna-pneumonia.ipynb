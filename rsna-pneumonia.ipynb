{
 "cells": [
  {
   "cell_type": "code",
   "execution_count": 1,
   "id": "17947513",
   "metadata": {
    "_cell_guid": "b1076dfc-b9ad-4769-8c92-a6c4dae69d19",
    "_uuid": "8f2839f25d086af736a60e9eeb907d3b93b6e0e5",
    "execution": {
     "iopub.execute_input": "2022-04-03T12:32:20.523536Z",
     "iopub.status.busy": "2022-04-03T12:32:20.522393Z",
     "iopub.status.idle": "2022-04-03T12:32:20.531134Z",
     "shell.execute_reply": "2022-04-03T12:32:20.530505Z",
     "shell.execute_reply.started": "2022-04-03T11:57:26.784800Z"
    },
    "papermill": {
     "duration": 0.055284,
     "end_time": "2022-04-03T12:32:20.531318",
     "exception": false,
     "start_time": "2022-04-03T12:32:20.476034",
     "status": "completed"
    },
    "tags": []
   },
   "outputs": [],
   "source": [
    "# This Python 3 environment comes with many helpful analytics libraries installed\n",
    "# It is defined by the kaggle/python Docker image: https://github.com/kaggle/docker-python\n",
    "# For example, here's several helpful packages to load\n",
    "\n",
    "import numpy as np # linear algebra\n",
    "import pandas as pd # data processing, CSV file I/O (e.g. pd.read_csv)\n",
    "\n",
    "# Input data files are available in the read-only \"../input/\" directory\n",
    "# For example, running this (by clicking run or pressing Shift+Enter) will list all files under the input directory\n",
    "\n",
    "# import os\n",
    "# for dirname, _, filenames in os.walk('/kaggle/input'):\n",
    "#     for filename in filenames:\n",
    "#         print(os.path.join(dirname, filename))\n",
    "\n",
    "# You can write up to 20GB to the current directory (/kaggle/working/) that gets preserved as output when you create a version using \"Save & Run All\" \n",
    "# You can also write temporary files to /kaggle/temp/, but they won't be saved outside of the current session"
   ]
  },
  {
   "cell_type": "code",
   "execution_count": 2,
   "id": "f300409b",
   "metadata": {
    "execution": {
     "iopub.execute_input": "2022-04-03T12:32:20.617474Z",
     "iopub.status.busy": "2022-04-03T12:32:20.616778Z",
     "iopub.status.idle": "2022-04-03T12:32:20.620357Z",
     "shell.execute_reply": "2022-04-03T12:32:20.620892Z",
     "shell.execute_reply.started": "2022-04-03T11:57:26.809380Z"
    },
    "papermill": {
     "duration": 0.048543,
     "end_time": "2022-04-03T12:32:20.621077",
     "exception": false,
     "start_time": "2022-04-03T12:32:20.572534",
     "status": "completed"
    },
    "tags": []
   },
   "outputs": [],
   "source": [
    "import matplotlib.pyplot as plt"
   ]
  },
  {
   "cell_type": "code",
   "execution_count": 3,
   "id": "c1552a0d",
   "metadata": {
    "execution": {
     "iopub.execute_input": "2022-04-03T12:32:20.707915Z",
     "iopub.status.busy": "2022-04-03T12:32:20.707155Z",
     "iopub.status.idle": "2022-04-03T12:32:20.779476Z",
     "shell.execute_reply": "2022-04-03T12:32:20.780001Z",
     "shell.execute_reply.started": "2022-04-03T11:57:42.423968Z"
    },
    "papermill": {
     "duration": 0.117126,
     "end_time": "2022-04-03T12:32:20.780218",
     "exception": false,
     "start_time": "2022-04-03T12:32:20.663092",
     "status": "completed"
    },
    "tags": []
   },
   "outputs": [],
   "source": [
    "labels = pd.read_csv('/kaggle/input/rsna-pneumonia-detection-challenge/stage_2_train_labels.csv')"
   ]
  },
  {
   "cell_type": "code",
   "execution_count": 4,
   "id": "6b072d09",
   "metadata": {
    "execution": {
     "iopub.execute_input": "2022-04-03T12:32:20.865782Z",
     "iopub.status.busy": "2022-04-03T12:32:20.865135Z",
     "iopub.status.idle": "2022-04-03T12:32:20.888472Z",
     "shell.execute_reply": "2022-04-03T12:32:20.889039Z",
     "shell.execute_reply.started": "2022-04-03T11:57:44.140440Z"
    },
    "papermill": {
     "duration": 0.067686,
     "end_time": "2022-04-03T12:32:20.889222",
     "exception": false,
     "start_time": "2022-04-03T12:32:20.821536",
     "status": "completed"
    },
    "tags": []
   },
   "outputs": [
    {
     "data": {
      "text/html": [
       "<div>\n",
       "<style scoped>\n",
       "    .dataframe tbody tr th:only-of-type {\n",
       "        vertical-align: middle;\n",
       "    }\n",
       "\n",
       "    .dataframe tbody tr th {\n",
       "        vertical-align: top;\n",
       "    }\n",
       "\n",
       "    .dataframe thead th {\n",
       "        text-align: right;\n",
       "    }\n",
       "</style>\n",
       "<table border=\"1\" class=\"dataframe\">\n",
       "  <thead>\n",
       "    <tr style=\"text-align: right;\">\n",
       "      <th></th>\n",
       "      <th>patientId</th>\n",
       "      <th>x</th>\n",
       "      <th>y</th>\n",
       "      <th>width</th>\n",
       "      <th>height</th>\n",
       "      <th>Target</th>\n",
       "    </tr>\n",
       "  </thead>\n",
       "  <tbody>\n",
       "    <tr>\n",
       "      <th>0</th>\n",
       "      <td>0004cfab-14fd-4e49-80ba-63a80b6bddd6</td>\n",
       "      <td>NaN</td>\n",
       "      <td>NaN</td>\n",
       "      <td>NaN</td>\n",
       "      <td>NaN</td>\n",
       "      <td>0</td>\n",
       "    </tr>\n",
       "    <tr>\n",
       "      <th>1</th>\n",
       "      <td>00313ee0-9eaa-42f4-b0ab-c148ed3241cd</td>\n",
       "      <td>NaN</td>\n",
       "      <td>NaN</td>\n",
       "      <td>NaN</td>\n",
       "      <td>NaN</td>\n",
       "      <td>0</td>\n",
       "    </tr>\n",
       "    <tr>\n",
       "      <th>2</th>\n",
       "      <td>00322d4d-1c29-4943-afc9-b6754be640eb</td>\n",
       "      <td>NaN</td>\n",
       "      <td>NaN</td>\n",
       "      <td>NaN</td>\n",
       "      <td>NaN</td>\n",
       "      <td>0</td>\n",
       "    </tr>\n",
       "    <tr>\n",
       "      <th>3</th>\n",
       "      <td>003d8fa0-6bf1-40ed-b54c-ac657f8495c5</td>\n",
       "      <td>NaN</td>\n",
       "      <td>NaN</td>\n",
       "      <td>NaN</td>\n",
       "      <td>NaN</td>\n",
       "      <td>0</td>\n",
       "    </tr>\n",
       "    <tr>\n",
       "      <th>4</th>\n",
       "      <td>00436515-870c-4b36-a041-de91049b9ab4</td>\n",
       "      <td>264.0</td>\n",
       "      <td>152.0</td>\n",
       "      <td>213.0</td>\n",
       "      <td>379.0</td>\n",
       "      <td>1</td>\n",
       "    </tr>\n",
       "  </tbody>\n",
       "</table>\n",
       "</div>"
      ],
      "text/plain": [
       "                              patientId      x      y  width  height  Target\n",
       "0  0004cfab-14fd-4e49-80ba-63a80b6bddd6    NaN    NaN    NaN     NaN       0\n",
       "1  00313ee0-9eaa-42f4-b0ab-c148ed3241cd    NaN    NaN    NaN     NaN       0\n",
       "2  00322d4d-1c29-4943-afc9-b6754be640eb    NaN    NaN    NaN     NaN       0\n",
       "3  003d8fa0-6bf1-40ed-b54c-ac657f8495c5    NaN    NaN    NaN     NaN       0\n",
       "4  00436515-870c-4b36-a041-de91049b9ab4  264.0  152.0  213.0   379.0       1"
      ]
     },
     "execution_count": 4,
     "metadata": {},
     "output_type": "execute_result"
    }
   ],
   "source": [
    "labels.head()"
   ]
  },
  {
   "cell_type": "code",
   "execution_count": 5,
   "id": "d5d68fdd",
   "metadata": {
    "execution": {
     "iopub.execute_input": "2022-04-03T12:32:20.986638Z",
     "iopub.status.busy": "2022-04-03T12:32:20.986113Z",
     "iopub.status.idle": "2022-04-03T12:32:20.989067Z",
     "shell.execute_reply": "2022-04-03T12:32:20.989564Z",
     "shell.execute_reply.started": "2022-04-03T11:57:58.884739Z"
    },
    "papermill": {
     "duration": 0.058191,
     "end_time": "2022-04-03T12:32:20.989715",
     "exception": false,
     "start_time": "2022-04-03T12:32:20.931524",
     "status": "completed"
    },
    "tags": []
   },
   "outputs": [
    {
     "data": {
      "text/plain": [
       "0    20672\n",
       "1     9555\n",
       "Name: Target, dtype: int64"
      ]
     },
     "execution_count": 5,
     "metadata": {},
     "output_type": "execute_result"
    }
   ],
   "source": [
    "labels.Target.value_counts()"
   ]
  },
  {
   "cell_type": "code",
   "execution_count": 6,
   "id": "48e35723",
   "metadata": {
    "execution": {
     "iopub.execute_input": "2022-04-03T12:32:21.048119Z",
     "iopub.status.busy": "2022-04-03T12:32:21.047658Z",
     "iopub.status.idle": "2022-04-03T12:32:21.064556Z",
     "shell.execute_reply": "2022-04-03T12:32:21.064944Z",
     "shell.execute_reply.started": "2022-04-03T11:58:01.002299Z"
    },
    "papermill": {
     "duration": 0.047561,
     "end_time": "2022-04-03T12:32:21.065097",
     "exception": false,
     "start_time": "2022-04-03T12:32:21.017536",
     "status": "completed"
    },
    "tags": []
   },
   "outputs": [],
   "source": [
    "sub = pd.read_csv('/kaggle/input/rsna-pneumonia-detection-challenge/stage_2_sample_submission.csv')"
   ]
  },
  {
   "cell_type": "code",
   "execution_count": 7,
   "id": "49b13505",
   "metadata": {
    "execution": {
     "iopub.execute_input": "2022-04-03T12:32:21.125308Z",
     "iopub.status.busy": "2022-04-03T12:32:21.124795Z",
     "iopub.status.idle": "2022-04-03T12:32:21.133318Z",
     "shell.execute_reply": "2022-04-03T12:32:21.133742Z",
     "shell.execute_reply.started": "2022-04-03T11:58:03.001841Z"
    },
    "papermill": {
     "duration": 0.039507,
     "end_time": "2022-04-03T12:32:21.133899",
     "exception": false,
     "start_time": "2022-04-03T12:32:21.094392",
     "status": "completed"
    },
    "tags": []
   },
   "outputs": [
    {
     "data": {
      "text/html": [
       "<div>\n",
       "<style scoped>\n",
       "    .dataframe tbody tr th:only-of-type {\n",
       "        vertical-align: middle;\n",
       "    }\n",
       "\n",
       "    .dataframe tbody tr th {\n",
       "        vertical-align: top;\n",
       "    }\n",
       "\n",
       "    .dataframe thead th {\n",
       "        text-align: right;\n",
       "    }\n",
       "</style>\n",
       "<table border=\"1\" class=\"dataframe\">\n",
       "  <thead>\n",
       "    <tr style=\"text-align: right;\">\n",
       "      <th></th>\n",
       "      <th>patientId</th>\n",
       "      <th>PredictionString</th>\n",
       "    </tr>\n",
       "  </thead>\n",
       "  <tbody>\n",
       "    <tr>\n",
       "      <th>0</th>\n",
       "      <td>0000a175-0e68-4ca4-b1af-167204a7e0bc</td>\n",
       "      <td>0.5 0 0 100 100</td>\n",
       "    </tr>\n",
       "    <tr>\n",
       "      <th>1</th>\n",
       "      <td>0005d3cc-3c3f-40b9-93c3-46231c3eb813</td>\n",
       "      <td>0.5 0 0 100 100</td>\n",
       "    </tr>\n",
       "    <tr>\n",
       "      <th>2</th>\n",
       "      <td>000686d7-f4fc-448d-97a0-44fa9c5d3aa6</td>\n",
       "      <td>0.5 0 0 100 100</td>\n",
       "    </tr>\n",
       "    <tr>\n",
       "      <th>3</th>\n",
       "      <td>000e3a7d-c0ca-4349-bb26-5af2d8993c3d</td>\n",
       "      <td>0.5 0 0 100 100</td>\n",
       "    </tr>\n",
       "    <tr>\n",
       "      <th>4</th>\n",
       "      <td>00100a24-854d-423d-a092-edcf6179e061</td>\n",
       "      <td>0.5 0 0 100 100</td>\n",
       "    </tr>\n",
       "  </tbody>\n",
       "</table>\n",
       "</div>"
      ],
      "text/plain": [
       "                              patientId PredictionString\n",
       "0  0000a175-0e68-4ca4-b1af-167204a7e0bc  0.5 0 0 100 100\n",
       "1  0005d3cc-3c3f-40b9-93c3-46231c3eb813  0.5 0 0 100 100\n",
       "2  000686d7-f4fc-448d-97a0-44fa9c5d3aa6  0.5 0 0 100 100\n",
       "3  000e3a7d-c0ca-4349-bb26-5af2d8993c3d  0.5 0 0 100 100\n",
       "4  00100a24-854d-423d-a092-edcf6179e061  0.5 0 0 100 100"
      ]
     },
     "execution_count": 7,
     "metadata": {},
     "output_type": "execute_result"
    }
   ],
   "source": [
    "sub.head()"
   ]
  },
  {
   "cell_type": "code",
   "execution_count": 8,
   "id": "50526447",
   "metadata": {
    "execution": {
     "iopub.execute_input": "2022-04-03T12:32:21.193498Z",
     "iopub.status.busy": "2022-04-03T12:32:21.192979Z",
     "iopub.status.idle": "2022-04-03T12:32:21.257322Z",
     "shell.execute_reply": "2022-04-03T12:32:21.257722Z",
     "shell.execute_reply.started": "2022-04-03T11:58:03.913431Z"
    },
    "papermill": {
     "duration": 0.095792,
     "end_time": "2022-04-03T12:32:21.257873",
     "exception": false,
     "start_time": "2022-04-03T12:32:21.162081",
     "status": "completed"
    },
    "tags": []
   },
   "outputs": [],
   "source": [
    "info = pd.read_csv('/kaggle/input/rsna-pneumonia-detection-challenge/stage_2_detailed_class_info.csv')"
   ]
  },
  {
   "cell_type": "code",
   "execution_count": 9,
   "id": "fbc4f2d1",
   "metadata": {
    "execution": {
     "iopub.execute_input": "2022-04-03T12:32:21.318293Z",
     "iopub.status.busy": "2022-04-03T12:32:21.317744Z",
     "iopub.status.idle": "2022-04-03T12:32:21.324634Z",
     "shell.execute_reply": "2022-04-03T12:32:21.325016Z",
     "shell.execute_reply.started": "2022-04-03T11:58:07.246410Z"
    },
    "papermill": {
     "duration": 0.038408,
     "end_time": "2022-04-03T12:32:21.325158",
     "exception": false,
     "start_time": "2022-04-03T12:32:21.286750",
     "status": "completed"
    },
    "tags": []
   },
   "outputs": [
    {
     "data": {
      "text/html": [
       "<div>\n",
       "<style scoped>\n",
       "    .dataframe tbody tr th:only-of-type {\n",
       "        vertical-align: middle;\n",
       "    }\n",
       "\n",
       "    .dataframe tbody tr th {\n",
       "        vertical-align: top;\n",
       "    }\n",
       "\n",
       "    .dataframe thead th {\n",
       "        text-align: right;\n",
       "    }\n",
       "</style>\n",
       "<table border=\"1\" class=\"dataframe\">\n",
       "  <thead>\n",
       "    <tr style=\"text-align: right;\">\n",
       "      <th></th>\n",
       "      <th>patientId</th>\n",
       "      <th>class</th>\n",
       "    </tr>\n",
       "  </thead>\n",
       "  <tbody>\n",
       "    <tr>\n",
       "      <th>0</th>\n",
       "      <td>0004cfab-14fd-4e49-80ba-63a80b6bddd6</td>\n",
       "      <td>No Lung Opacity / Not Normal</td>\n",
       "    </tr>\n",
       "    <tr>\n",
       "      <th>1</th>\n",
       "      <td>00313ee0-9eaa-42f4-b0ab-c148ed3241cd</td>\n",
       "      <td>No Lung Opacity / Not Normal</td>\n",
       "    </tr>\n",
       "    <tr>\n",
       "      <th>2</th>\n",
       "      <td>00322d4d-1c29-4943-afc9-b6754be640eb</td>\n",
       "      <td>No Lung Opacity / Not Normal</td>\n",
       "    </tr>\n",
       "    <tr>\n",
       "      <th>3</th>\n",
       "      <td>003d8fa0-6bf1-40ed-b54c-ac657f8495c5</td>\n",
       "      <td>Normal</td>\n",
       "    </tr>\n",
       "    <tr>\n",
       "      <th>4</th>\n",
       "      <td>00436515-870c-4b36-a041-de91049b9ab4</td>\n",
       "      <td>Lung Opacity</td>\n",
       "    </tr>\n",
       "  </tbody>\n",
       "</table>\n",
       "</div>"
      ],
      "text/plain": [
       "                              patientId                         class\n",
       "0  0004cfab-14fd-4e49-80ba-63a80b6bddd6  No Lung Opacity / Not Normal\n",
       "1  00313ee0-9eaa-42f4-b0ab-c148ed3241cd  No Lung Opacity / Not Normal\n",
       "2  00322d4d-1c29-4943-afc9-b6754be640eb  No Lung Opacity / Not Normal\n",
       "3  003d8fa0-6bf1-40ed-b54c-ac657f8495c5                        Normal\n",
       "4  00436515-870c-4b36-a041-de91049b9ab4                  Lung Opacity"
      ]
     },
     "execution_count": 9,
     "metadata": {},
     "output_type": "execute_result"
    }
   ],
   "source": [
    "info.head()"
   ]
  },
  {
   "cell_type": "code",
   "execution_count": 10,
   "id": "1d225adf",
   "metadata": {
    "execution": {
     "iopub.execute_input": "2022-04-03T12:32:21.384728Z",
     "iopub.status.busy": "2022-04-03T12:32:21.384291Z",
     "iopub.status.idle": "2022-04-03T12:32:21.426027Z",
     "shell.execute_reply": "2022-04-03T12:32:21.426450Z",
     "shell.execute_reply.started": "2022-04-03T11:58:12.708760Z"
    },
    "papermill": {
     "duration": 0.073237,
     "end_time": "2022-04-03T12:32:21.426589",
     "exception": false,
     "start_time": "2022-04-03T12:32:21.353352",
     "status": "completed"
    },
    "tags": []
   },
   "outputs": [],
   "source": [
    "new = pd.merge(labels ,info ,on = 'patientId')"
   ]
  },
  {
   "cell_type": "code",
   "execution_count": 11,
   "id": "eaeab3ec",
   "metadata": {
    "execution": {
     "iopub.execute_input": "2022-04-03T12:32:21.502576Z",
     "iopub.status.busy": "2022-04-03T12:32:21.502074Z",
     "iopub.status.idle": "2022-04-03T12:32:21.508045Z",
     "shell.execute_reply": "2022-04-03T12:32:21.508603Z",
     "shell.execute_reply.started": "2022-04-03T11:58:12.832596Z"
    },
    "papermill": {
     "duration": 0.054005,
     "end_time": "2022-04-03T12:32:21.508782",
     "exception": false,
     "start_time": "2022-04-03T12:32:21.454777",
     "status": "completed"
    },
    "tags": []
   },
   "outputs": [
    {
     "data": {
      "text/html": [
       "<div>\n",
       "<style scoped>\n",
       "    .dataframe tbody tr th:only-of-type {\n",
       "        vertical-align: middle;\n",
       "    }\n",
       "\n",
       "    .dataframe tbody tr th {\n",
       "        vertical-align: top;\n",
       "    }\n",
       "\n",
       "    .dataframe thead th {\n",
       "        text-align: right;\n",
       "    }\n",
       "</style>\n",
       "<table border=\"1\" class=\"dataframe\">\n",
       "  <thead>\n",
       "    <tr style=\"text-align: right;\">\n",
       "      <th></th>\n",
       "      <th>patientId</th>\n",
       "      <th>x</th>\n",
       "      <th>y</th>\n",
       "      <th>width</th>\n",
       "      <th>height</th>\n",
       "      <th>Target</th>\n",
       "      <th>class</th>\n",
       "    </tr>\n",
       "  </thead>\n",
       "  <tbody>\n",
       "    <tr>\n",
       "      <th>0</th>\n",
       "      <td>0004cfab-14fd-4e49-80ba-63a80b6bddd6</td>\n",
       "      <td>NaN</td>\n",
       "      <td>NaN</td>\n",
       "      <td>NaN</td>\n",
       "      <td>NaN</td>\n",
       "      <td>0</td>\n",
       "      <td>No Lung Opacity / Not Normal</td>\n",
       "    </tr>\n",
       "    <tr>\n",
       "      <th>1</th>\n",
       "      <td>00313ee0-9eaa-42f4-b0ab-c148ed3241cd</td>\n",
       "      <td>NaN</td>\n",
       "      <td>NaN</td>\n",
       "      <td>NaN</td>\n",
       "      <td>NaN</td>\n",
       "      <td>0</td>\n",
       "      <td>No Lung Opacity / Not Normal</td>\n",
       "    </tr>\n",
       "    <tr>\n",
       "      <th>2</th>\n",
       "      <td>00322d4d-1c29-4943-afc9-b6754be640eb</td>\n",
       "      <td>NaN</td>\n",
       "      <td>NaN</td>\n",
       "      <td>NaN</td>\n",
       "      <td>NaN</td>\n",
       "      <td>0</td>\n",
       "      <td>No Lung Opacity / Not Normal</td>\n",
       "    </tr>\n",
       "    <tr>\n",
       "      <th>3</th>\n",
       "      <td>003d8fa0-6bf1-40ed-b54c-ac657f8495c5</td>\n",
       "      <td>NaN</td>\n",
       "      <td>NaN</td>\n",
       "      <td>NaN</td>\n",
       "      <td>NaN</td>\n",
       "      <td>0</td>\n",
       "      <td>Normal</td>\n",
       "    </tr>\n",
       "    <tr>\n",
       "      <th>4</th>\n",
       "      <td>00436515-870c-4b36-a041-de91049b9ab4</td>\n",
       "      <td>264.0</td>\n",
       "      <td>152.0</td>\n",
       "      <td>213.0</td>\n",
       "      <td>379.0</td>\n",
       "      <td>1</td>\n",
       "      <td>Lung Opacity</td>\n",
       "    </tr>\n",
       "    <tr>\n",
       "      <th>5</th>\n",
       "      <td>00436515-870c-4b36-a041-de91049b9ab4</td>\n",
       "      <td>264.0</td>\n",
       "      <td>152.0</td>\n",
       "      <td>213.0</td>\n",
       "      <td>379.0</td>\n",
       "      <td>1</td>\n",
       "      <td>Lung Opacity</td>\n",
       "    </tr>\n",
       "    <tr>\n",
       "      <th>6</th>\n",
       "      <td>00436515-870c-4b36-a041-de91049b9ab4</td>\n",
       "      <td>562.0</td>\n",
       "      <td>152.0</td>\n",
       "      <td>256.0</td>\n",
       "      <td>453.0</td>\n",
       "      <td>1</td>\n",
       "      <td>Lung Opacity</td>\n",
       "    </tr>\n",
       "    <tr>\n",
       "      <th>7</th>\n",
       "      <td>00436515-870c-4b36-a041-de91049b9ab4</td>\n",
       "      <td>562.0</td>\n",
       "      <td>152.0</td>\n",
       "      <td>256.0</td>\n",
       "      <td>453.0</td>\n",
       "      <td>1</td>\n",
       "      <td>Lung Opacity</td>\n",
       "    </tr>\n",
       "    <tr>\n",
       "      <th>8</th>\n",
       "      <td>00569f44-917d-4c86-a842-81832af98c30</td>\n",
       "      <td>NaN</td>\n",
       "      <td>NaN</td>\n",
       "      <td>NaN</td>\n",
       "      <td>NaN</td>\n",
       "      <td>0</td>\n",
       "      <td>No Lung Opacity / Not Normal</td>\n",
       "    </tr>\n",
       "    <tr>\n",
       "      <th>9</th>\n",
       "      <td>006cec2e-6ce2-4549-bffa-eadfcd1e9970</td>\n",
       "      <td>NaN</td>\n",
       "      <td>NaN</td>\n",
       "      <td>NaN</td>\n",
       "      <td>NaN</td>\n",
       "      <td>0</td>\n",
       "      <td>No Lung Opacity / Not Normal</td>\n",
       "    </tr>\n",
       "    <tr>\n",
       "      <th>10</th>\n",
       "      <td>00704310-78a8-4b38-8475-49f4573b2dbb</td>\n",
       "      <td>323.0</td>\n",
       "      <td>577.0</td>\n",
       "      <td>160.0</td>\n",
       "      <td>104.0</td>\n",
       "      <td>1</td>\n",
       "      <td>Lung Opacity</td>\n",
       "    </tr>\n",
       "    <tr>\n",
       "      <th>11</th>\n",
       "      <td>00704310-78a8-4b38-8475-49f4573b2dbb</td>\n",
       "      <td>323.0</td>\n",
       "      <td>577.0</td>\n",
       "      <td>160.0</td>\n",
       "      <td>104.0</td>\n",
       "      <td>1</td>\n",
       "      <td>Lung Opacity</td>\n",
       "    </tr>\n",
       "    <tr>\n",
       "      <th>12</th>\n",
       "      <td>00704310-78a8-4b38-8475-49f4573b2dbb</td>\n",
       "      <td>695.0</td>\n",
       "      <td>575.0</td>\n",
       "      <td>162.0</td>\n",
       "      <td>137.0</td>\n",
       "      <td>1</td>\n",
       "      <td>Lung Opacity</td>\n",
       "    </tr>\n",
       "    <tr>\n",
       "      <th>13</th>\n",
       "      <td>00704310-78a8-4b38-8475-49f4573b2dbb</td>\n",
       "      <td>695.0</td>\n",
       "      <td>575.0</td>\n",
       "      <td>162.0</td>\n",
       "      <td>137.0</td>\n",
       "      <td>1</td>\n",
       "      <td>Lung Opacity</td>\n",
       "    </tr>\n",
       "    <tr>\n",
       "      <th>14</th>\n",
       "      <td>008c19e8-a820-403a-930a-bc74a4053664</td>\n",
       "      <td>NaN</td>\n",
       "      <td>NaN</td>\n",
       "      <td>NaN</td>\n",
       "      <td>NaN</td>\n",
       "      <td>0</td>\n",
       "      <td>No Lung Opacity / Not Normal</td>\n",
       "    </tr>\n",
       "    <tr>\n",
       "      <th>15</th>\n",
       "      <td>009482dc-3db5-48d4-8580-5c89c4f01334</td>\n",
       "      <td>NaN</td>\n",
       "      <td>NaN</td>\n",
       "      <td>NaN</td>\n",
       "      <td>NaN</td>\n",
       "      <td>0</td>\n",
       "      <td>Normal</td>\n",
       "    </tr>\n",
       "    <tr>\n",
       "      <th>16</th>\n",
       "      <td>009eb222-eabc-4150-8121-d5a6d06b8ebf</td>\n",
       "      <td>NaN</td>\n",
       "      <td>NaN</td>\n",
       "      <td>NaN</td>\n",
       "      <td>NaN</td>\n",
       "      <td>0</td>\n",
       "      <td>Normal</td>\n",
       "    </tr>\n",
       "    <tr>\n",
       "      <th>17</th>\n",
       "      <td>00a85be6-6eb0-421d-8acf-ff2dc0007e8a</td>\n",
       "      <td>NaN</td>\n",
       "      <td>NaN</td>\n",
       "      <td>NaN</td>\n",
       "      <td>NaN</td>\n",
       "      <td>0</td>\n",
       "      <td>Normal</td>\n",
       "    </tr>\n",
       "    <tr>\n",
       "      <th>18</th>\n",
       "      <td>00aecb01-a116-45a2-956c-08d2fa55433f</td>\n",
       "      <td>288.0</td>\n",
       "      <td>322.0</td>\n",
       "      <td>94.0</td>\n",
       "      <td>135.0</td>\n",
       "      <td>1</td>\n",
       "      <td>Lung Opacity</td>\n",
       "    </tr>\n",
       "    <tr>\n",
       "      <th>19</th>\n",
       "      <td>00aecb01-a116-45a2-956c-08d2fa55433f</td>\n",
       "      <td>288.0</td>\n",
       "      <td>322.0</td>\n",
       "      <td>94.0</td>\n",
       "      <td>135.0</td>\n",
       "      <td>1</td>\n",
       "      <td>Lung Opacity</td>\n",
       "    </tr>\n",
       "    <tr>\n",
       "      <th>20</th>\n",
       "      <td>00aecb01-a116-45a2-956c-08d2fa55433f</td>\n",
       "      <td>547.0</td>\n",
       "      <td>299.0</td>\n",
       "      <td>119.0</td>\n",
       "      <td>165.0</td>\n",
       "      <td>1</td>\n",
       "      <td>Lung Opacity</td>\n",
       "    </tr>\n",
       "    <tr>\n",
       "      <th>21</th>\n",
       "      <td>00aecb01-a116-45a2-956c-08d2fa55433f</td>\n",
       "      <td>547.0</td>\n",
       "      <td>299.0</td>\n",
       "      <td>119.0</td>\n",
       "      <td>165.0</td>\n",
       "      <td>1</td>\n",
       "      <td>Lung Opacity</td>\n",
       "    </tr>\n",
       "    <tr>\n",
       "      <th>22</th>\n",
       "      <td>00c0b293-48e7-4e16-ac76-9269ba535a62</td>\n",
       "      <td>306.0</td>\n",
       "      <td>544.0</td>\n",
       "      <td>168.0</td>\n",
       "      <td>244.0</td>\n",
       "      <td>1</td>\n",
       "      <td>Lung Opacity</td>\n",
       "    </tr>\n",
       "    <tr>\n",
       "      <th>23</th>\n",
       "      <td>00c0b293-48e7-4e16-ac76-9269ba535a62</td>\n",
       "      <td>306.0</td>\n",
       "      <td>544.0</td>\n",
       "      <td>168.0</td>\n",
       "      <td>244.0</td>\n",
       "      <td>1</td>\n",
       "      <td>Lung Opacity</td>\n",
       "    </tr>\n",
       "    <tr>\n",
       "      <th>24</th>\n",
       "      <td>00c0b293-48e7-4e16-ac76-9269ba535a62</td>\n",
       "      <td>650.0</td>\n",
       "      <td>511.0</td>\n",
       "      <td>206.0</td>\n",
       "      <td>284.0</td>\n",
       "      <td>1</td>\n",
       "      <td>Lung Opacity</td>\n",
       "    </tr>\n",
       "    <tr>\n",
       "      <th>25</th>\n",
       "      <td>00c0b293-48e7-4e16-ac76-9269ba535a62</td>\n",
       "      <td>650.0</td>\n",
       "      <td>511.0</td>\n",
       "      <td>206.0</td>\n",
       "      <td>284.0</td>\n",
       "      <td>1</td>\n",
       "      <td>Lung Opacity</td>\n",
       "    </tr>\n",
       "    <tr>\n",
       "      <th>26</th>\n",
       "      <td>00d7c36e-3cdf-4df6-ac03-6c30cdc8e85b</td>\n",
       "      <td>NaN</td>\n",
       "      <td>NaN</td>\n",
       "      <td>NaN</td>\n",
       "      <td>NaN</td>\n",
       "      <td>0</td>\n",
       "      <td>No Lung Opacity / Not Normal</td>\n",
       "    </tr>\n",
       "    <tr>\n",
       "      <th>27</th>\n",
       "      <td>00f08de1-517e-4652-a04f-d1dc9ee48593</td>\n",
       "      <td>181.0</td>\n",
       "      <td>184.0</td>\n",
       "      <td>206.0</td>\n",
       "      <td>506.0</td>\n",
       "      <td>1</td>\n",
       "      <td>Lung Opacity</td>\n",
       "    </tr>\n",
       "    <tr>\n",
       "      <th>28</th>\n",
       "      <td>00f08de1-517e-4652-a04f-d1dc9ee48593</td>\n",
       "      <td>181.0</td>\n",
       "      <td>184.0</td>\n",
       "      <td>206.0</td>\n",
       "      <td>506.0</td>\n",
       "      <td>1</td>\n",
       "      <td>Lung Opacity</td>\n",
       "    </tr>\n",
       "    <tr>\n",
       "      <th>29</th>\n",
       "      <td>00f08de1-517e-4652-a04f-d1dc9ee48593</td>\n",
       "      <td>571.0</td>\n",
       "      <td>275.0</td>\n",
       "      <td>230.0</td>\n",
       "      <td>476.0</td>\n",
       "      <td>1</td>\n",
       "      <td>Lung Opacity</td>\n",
       "    </tr>\n",
       "  </tbody>\n",
       "</table>\n",
       "</div>"
      ],
      "text/plain": [
       "                               patientId      x      y  width  height  Target  \\\n",
       "0   0004cfab-14fd-4e49-80ba-63a80b6bddd6    NaN    NaN    NaN     NaN       0   \n",
       "1   00313ee0-9eaa-42f4-b0ab-c148ed3241cd    NaN    NaN    NaN     NaN       0   \n",
       "2   00322d4d-1c29-4943-afc9-b6754be640eb    NaN    NaN    NaN     NaN       0   \n",
       "3   003d8fa0-6bf1-40ed-b54c-ac657f8495c5    NaN    NaN    NaN     NaN       0   \n",
       "4   00436515-870c-4b36-a041-de91049b9ab4  264.0  152.0  213.0   379.0       1   \n",
       "5   00436515-870c-4b36-a041-de91049b9ab4  264.0  152.0  213.0   379.0       1   \n",
       "6   00436515-870c-4b36-a041-de91049b9ab4  562.0  152.0  256.0   453.0       1   \n",
       "7   00436515-870c-4b36-a041-de91049b9ab4  562.0  152.0  256.0   453.0       1   \n",
       "8   00569f44-917d-4c86-a842-81832af98c30    NaN    NaN    NaN     NaN       0   \n",
       "9   006cec2e-6ce2-4549-bffa-eadfcd1e9970    NaN    NaN    NaN     NaN       0   \n",
       "10  00704310-78a8-4b38-8475-49f4573b2dbb  323.0  577.0  160.0   104.0       1   \n",
       "11  00704310-78a8-4b38-8475-49f4573b2dbb  323.0  577.0  160.0   104.0       1   \n",
       "12  00704310-78a8-4b38-8475-49f4573b2dbb  695.0  575.0  162.0   137.0       1   \n",
       "13  00704310-78a8-4b38-8475-49f4573b2dbb  695.0  575.0  162.0   137.0       1   \n",
       "14  008c19e8-a820-403a-930a-bc74a4053664    NaN    NaN    NaN     NaN       0   \n",
       "15  009482dc-3db5-48d4-8580-5c89c4f01334    NaN    NaN    NaN     NaN       0   \n",
       "16  009eb222-eabc-4150-8121-d5a6d06b8ebf    NaN    NaN    NaN     NaN       0   \n",
       "17  00a85be6-6eb0-421d-8acf-ff2dc0007e8a    NaN    NaN    NaN     NaN       0   \n",
       "18  00aecb01-a116-45a2-956c-08d2fa55433f  288.0  322.0   94.0   135.0       1   \n",
       "19  00aecb01-a116-45a2-956c-08d2fa55433f  288.0  322.0   94.0   135.0       1   \n",
       "20  00aecb01-a116-45a2-956c-08d2fa55433f  547.0  299.0  119.0   165.0       1   \n",
       "21  00aecb01-a116-45a2-956c-08d2fa55433f  547.0  299.0  119.0   165.0       1   \n",
       "22  00c0b293-48e7-4e16-ac76-9269ba535a62  306.0  544.0  168.0   244.0       1   \n",
       "23  00c0b293-48e7-4e16-ac76-9269ba535a62  306.0  544.0  168.0   244.0       1   \n",
       "24  00c0b293-48e7-4e16-ac76-9269ba535a62  650.0  511.0  206.0   284.0       1   \n",
       "25  00c0b293-48e7-4e16-ac76-9269ba535a62  650.0  511.0  206.0   284.0       1   \n",
       "26  00d7c36e-3cdf-4df6-ac03-6c30cdc8e85b    NaN    NaN    NaN     NaN       0   \n",
       "27  00f08de1-517e-4652-a04f-d1dc9ee48593  181.0  184.0  206.0   506.0       1   \n",
       "28  00f08de1-517e-4652-a04f-d1dc9ee48593  181.0  184.0  206.0   506.0       1   \n",
       "29  00f08de1-517e-4652-a04f-d1dc9ee48593  571.0  275.0  230.0   476.0       1   \n",
       "\n",
       "                           class  \n",
       "0   No Lung Opacity / Not Normal  \n",
       "1   No Lung Opacity / Not Normal  \n",
       "2   No Lung Opacity / Not Normal  \n",
       "3                         Normal  \n",
       "4                   Lung Opacity  \n",
       "5                   Lung Opacity  \n",
       "6                   Lung Opacity  \n",
       "7                   Lung Opacity  \n",
       "8   No Lung Opacity / Not Normal  \n",
       "9   No Lung Opacity / Not Normal  \n",
       "10                  Lung Opacity  \n",
       "11                  Lung Opacity  \n",
       "12                  Lung Opacity  \n",
       "13                  Lung Opacity  \n",
       "14  No Lung Opacity / Not Normal  \n",
       "15                        Normal  \n",
       "16                        Normal  \n",
       "17                        Normal  \n",
       "18                  Lung Opacity  \n",
       "19                  Lung Opacity  \n",
       "20                  Lung Opacity  \n",
       "21                  Lung Opacity  \n",
       "22                  Lung Opacity  \n",
       "23                  Lung Opacity  \n",
       "24                  Lung Opacity  \n",
       "25                  Lung Opacity  \n",
       "26  No Lung Opacity / Not Normal  \n",
       "27                  Lung Opacity  \n",
       "28                  Lung Opacity  \n",
       "29                  Lung Opacity  "
      ]
     },
     "execution_count": 11,
     "metadata": {},
     "output_type": "execute_result"
    }
   ],
   "source": [
    "new.head(30)"
   ]
  },
  {
   "cell_type": "code",
   "execution_count": 12,
   "id": "7dece932",
   "metadata": {
    "execution": {
     "iopub.execute_input": "2022-04-03T12:32:21.603638Z",
     "iopub.status.busy": "2022-04-03T12:32:21.602961Z",
     "iopub.status.idle": "2022-04-03T12:32:21.619772Z",
     "shell.execute_reply": "2022-04-03T12:32:21.619170Z",
     "shell.execute_reply.started": "2022-04-03T11:58:12.861901Z"
    },
    "papermill": {
     "duration": 0.066012,
     "end_time": "2022-04-03T12:32:21.619914",
     "exception": false,
     "start_time": "2022-04-03T12:32:21.553902",
     "status": "completed"
    },
    "tags": []
   },
   "outputs": [
    {
     "data": {
      "text/html": [
       "<div>\n",
       "<style scoped>\n",
       "    .dataframe tbody tr th:only-of-type {\n",
       "        vertical-align: middle;\n",
       "    }\n",
       "\n",
       "    .dataframe tbody tr th {\n",
       "        vertical-align: top;\n",
       "    }\n",
       "\n",
       "    .dataframe thead th {\n",
       "        text-align: right;\n",
       "    }\n",
       "</style>\n",
       "<table border=\"1\" class=\"dataframe\">\n",
       "  <thead>\n",
       "    <tr style=\"text-align: right;\">\n",
       "      <th></th>\n",
       "      <th>patientId</th>\n",
       "      <th>x</th>\n",
       "      <th>y</th>\n",
       "      <th>width</th>\n",
       "      <th>height</th>\n",
       "      <th>Target</th>\n",
       "      <th>class</th>\n",
       "    </tr>\n",
       "  </thead>\n",
       "  <tbody>\n",
       "    <tr>\n",
       "      <th>22</th>\n",
       "      <td>00c0b293-48e7-4e16-ac76-9269ba535a62</td>\n",
       "      <td>306.0</td>\n",
       "      <td>544.0</td>\n",
       "      <td>168.0</td>\n",
       "      <td>244.0</td>\n",
       "      <td>1</td>\n",
       "      <td>Lung Opacity</td>\n",
       "    </tr>\n",
       "    <tr>\n",
       "      <th>23</th>\n",
       "      <td>00c0b293-48e7-4e16-ac76-9269ba535a62</td>\n",
       "      <td>306.0</td>\n",
       "      <td>544.0</td>\n",
       "      <td>168.0</td>\n",
       "      <td>244.0</td>\n",
       "      <td>1</td>\n",
       "      <td>Lung Opacity</td>\n",
       "    </tr>\n",
       "    <tr>\n",
       "      <th>24</th>\n",
       "      <td>00c0b293-48e7-4e16-ac76-9269ba535a62</td>\n",
       "      <td>650.0</td>\n",
       "      <td>511.0</td>\n",
       "      <td>206.0</td>\n",
       "      <td>284.0</td>\n",
       "      <td>1</td>\n",
       "      <td>Lung Opacity</td>\n",
       "    </tr>\n",
       "    <tr>\n",
       "      <th>25</th>\n",
       "      <td>00c0b293-48e7-4e16-ac76-9269ba535a62</td>\n",
       "      <td>650.0</td>\n",
       "      <td>511.0</td>\n",
       "      <td>206.0</td>\n",
       "      <td>284.0</td>\n",
       "      <td>1</td>\n",
       "      <td>Lung Opacity</td>\n",
       "    </tr>\n",
       "  </tbody>\n",
       "</table>\n",
       "</div>"
      ],
      "text/plain": [
       "                               patientId      x      y  width  height  Target  \\\n",
       "22  00c0b293-48e7-4e16-ac76-9269ba535a62  306.0  544.0  168.0   244.0       1   \n",
       "23  00c0b293-48e7-4e16-ac76-9269ba535a62  306.0  544.0  168.0   244.0       1   \n",
       "24  00c0b293-48e7-4e16-ac76-9269ba535a62  650.0  511.0  206.0   284.0       1   \n",
       "25  00c0b293-48e7-4e16-ac76-9269ba535a62  650.0  511.0  206.0   284.0       1   \n",
       "\n",
       "           class  \n",
       "22  Lung Opacity  \n",
       "23  Lung Opacity  \n",
       "24  Lung Opacity  \n",
       "25  Lung Opacity  "
      ]
     },
     "execution_count": 12,
     "metadata": {},
     "output_type": "execute_result"
    }
   ],
   "source": [
    "new[new.patientId == '00c0b293-48e7-4e16-ac76-9269ba535a62']"
   ]
  },
  {
   "cell_type": "code",
   "execution_count": 13,
   "id": "ae5b77dd",
   "metadata": {
    "execution": {
     "iopub.execute_input": "2022-04-03T12:32:21.714545Z",
     "iopub.status.busy": "2022-04-03T12:32:21.713932Z",
     "iopub.status.idle": "2022-04-03T12:32:21.741263Z",
     "shell.execute_reply": "2022-04-03T12:32:21.741875Z",
     "shell.execute_reply.started": "2022-04-03T11:58:12.892334Z"
    },
    "papermill": {
     "duration": 0.075811,
     "end_time": "2022-04-03T12:32:21.742042",
     "exception": false,
     "start_time": "2022-04-03T12:32:21.666231",
     "status": "completed"
    },
    "tags": []
   },
   "outputs": [
    {
     "data": {
      "text/html": [
       "<div>\n",
       "<style scoped>\n",
       "    .dataframe tbody tr th:only-of-type {\n",
       "        vertical-align: middle;\n",
       "    }\n",
       "\n",
       "    .dataframe tbody tr th {\n",
       "        vertical-align: top;\n",
       "    }\n",
       "\n",
       "    .dataframe thead th {\n",
       "        text-align: right;\n",
       "    }\n",
       "</style>\n",
       "<table border=\"1\" class=\"dataframe\">\n",
       "  <thead>\n",
       "    <tr style=\"text-align: right;\">\n",
       "      <th></th>\n",
       "      <th></th>\n",
       "      <th>patientId</th>\n",
       "    </tr>\n",
       "    <tr>\n",
       "      <th>Target</th>\n",
       "      <th>class</th>\n",
       "      <th></th>\n",
       "    </tr>\n",
       "  </thead>\n",
       "  <tbody>\n",
       "    <tr>\n",
       "      <th rowspan=\"2\" valign=\"top\">0</th>\n",
       "      <th>No Lung Opacity / Not Normal</th>\n",
       "      <td>57.18363</td>\n",
       "    </tr>\n",
       "    <tr>\n",
       "      <th>Normal</th>\n",
       "      <td>42.81637</td>\n",
       "    </tr>\n",
       "    <tr>\n",
       "      <th>1</th>\n",
       "      <th>Lung Opacity</th>\n",
       "      <td>100.00000</td>\n",
       "    </tr>\n",
       "  </tbody>\n",
       "</table>\n",
       "</div>"
      ],
      "text/plain": [
       "                                     patientId\n",
       "Target class                                  \n",
       "0      No Lung Opacity / Not Normal   57.18363\n",
       "       Normal                         42.81637\n",
       "1      Lung Opacity                  100.00000"
      ]
     },
     "execution_count": 13,
     "metadata": {},
     "output_type": "execute_result"
    }
   ],
   "source": [
    "pivot_1 = new.groupby(['Target', 'class'])\\\n",
    ".agg({'patientId': 'count'})\\\n",
    ".groupby(level = 0).apply(lambda x:x*100/x.sum())\n",
    "\n",
    "pivot_1"
   ]
  },
  {
   "cell_type": "code",
   "execution_count": 14,
   "id": "5dcc8155",
   "metadata": {
    "execution": {
     "iopub.execute_input": "2022-04-03T12:32:21.837296Z",
     "iopub.status.busy": "2022-04-03T12:32:21.836608Z",
     "iopub.status.idle": "2022-04-03T12:32:22.571236Z",
     "shell.execute_reply": "2022-04-03T12:32:22.570582Z",
     "shell.execute_reply.started": "2022-04-03T11:58:12.927761Z"
    },
    "papermill": {
     "duration": 0.783402,
     "end_time": "2022-04-03T12:32:22.571376",
     "exception": false,
     "start_time": "2022-04-03T12:32:21.787974",
     "status": "completed"
    },
    "tags": []
   },
   "outputs": [],
   "source": [
    "import cv2\n",
    "import pydicom"
   ]
  },
  {
   "cell_type": "code",
   "execution_count": 15,
   "id": "a7150575",
   "metadata": {
    "execution": {
     "iopub.execute_input": "2022-04-03T12:32:22.667997Z",
     "iopub.status.busy": "2022-04-03T12:32:22.666540Z",
     "iopub.status.idle": "2022-04-03T12:32:22.669755Z",
     "shell.execute_reply": "2022-04-03T12:32:22.669145Z",
     "shell.execute_reply.started": "2022-04-03T05:34:15.473503Z"
    },
    "papermill": {
     "duration": 0.053024,
     "end_time": "2022-04-03T12:32:22.669896",
     "exception": false,
     "start_time": "2022-04-03T12:32:22.616872",
     "status": "completed"
    },
    "tags": []
   },
   "outputs": [],
   "source": [
    "# sample = cv2.imread(os.path.join(new.patientId,'.dcm'))"
   ]
  },
  {
   "cell_type": "code",
   "execution_count": 16,
   "id": "646a87ea",
   "metadata": {
    "execution": {
     "iopub.execute_input": "2022-04-03T12:32:22.766352Z",
     "iopub.status.busy": "2022-04-03T12:32:22.765675Z",
     "iopub.status.idle": "2022-04-03T12:32:22.770355Z",
     "shell.execute_reply": "2022-04-03T12:32:22.769774Z",
     "shell.execute_reply.started": "2022-04-03T11:58:18.049649Z"
    },
    "papermill": {
     "duration": 0.054669,
     "end_time": "2022-04-03T12:32:22.770515",
     "exception": false,
     "start_time": "2022-04-03T12:32:22.715846",
     "status": "completed"
    },
    "tags": []
   },
   "outputs": [
    {
     "data": {
      "text/plain": [
       "'/kaggle/input/rsna-pneumonia-detection-challenge/stage_2_train_images/0004cfab-14fd-4e49-80ba-63a80b6bddd6.dcm'"
      ]
     },
     "execution_count": 16,
     "metadata": {},
     "output_type": "execute_result"
    }
   ],
   "source": [
    "path = '/kaggle/input/rsna-pneumonia-detection-challenge/stage_2_train_images/'\n",
    "\n",
    "path +new.patientId[0] + '.dcm'"
   ]
  },
  {
   "cell_type": "code",
   "execution_count": 17,
   "id": "61fd0f2a",
   "metadata": {
    "execution": {
     "iopub.execute_input": "2022-04-03T12:32:22.868272Z",
     "iopub.status.busy": "2022-04-03T12:32:22.867659Z",
     "iopub.status.idle": "2022-04-03T12:32:22.882836Z",
     "shell.execute_reply": "2022-04-03T12:32:22.882291Z",
     "shell.execute_reply.started": "2022-04-03T11:58:20.684425Z"
    },
    "papermill": {
     "duration": 0.065805,
     "end_time": "2022-04-03T12:32:22.882982",
     "exception": false,
     "start_time": "2022-04-03T12:32:22.817177",
     "status": "completed"
    },
    "tags": []
   },
   "outputs": [],
   "source": [
    "dcm_file = '/kaggle/input/rsna-pneumonia-detection-challenge/stage_2_train_images/%s.dcm' % new.patientId[0]\n",
    "\n",
    "dcm_data = pydicom.read_file(dcm_file)"
   ]
  },
  {
   "cell_type": "code",
   "execution_count": 18,
   "id": "70fa5352",
   "metadata": {
    "execution": {
     "iopub.execute_input": "2022-04-03T12:32:22.981328Z",
     "iopub.status.busy": "2022-04-03T12:32:22.978308Z",
     "iopub.status.idle": "2022-04-03T12:32:22.983954Z",
     "shell.execute_reply": "2022-04-03T12:32:22.984470Z",
     "shell.execute_reply.started": "2022-04-03T11:58:24.013607Z"
    },
    "papermill": {
     "duration": 0.055513,
     "end_time": "2022-04-03T12:32:22.984629",
     "exception": false,
     "start_time": "2022-04-03T12:32:22.929116",
     "status": "completed"
    },
    "tags": []
   },
   "outputs": [
    {
     "data": {
      "text/plain": [
       "Dataset.file_meta -------------------------------\n",
       "(0002, 0000) File Meta Information Group Length  UL: 202\n",
       "(0002, 0001) File Meta Information Version       OB: b'\\x00\\x01'\n",
       "(0002, 0002) Media Storage SOP Class UID         UI: Secondary Capture Image Storage\n",
       "(0002, 0003) Media Storage SOP Instance UID      UI: 1.2.276.0.7230010.3.1.4.8323329.28530.1517874485.775526\n",
       "(0002, 0010) Transfer Syntax UID                 UI: JPEG Baseline (Process 1)\n",
       "(0002, 0012) Implementation Class UID            UI: 1.2.276.0.7230010.3.0.3.6.0\n",
       "(0002, 0013) Implementation Version Name         SH: 'OFFIS_DCMTK_360'\n",
       "-------------------------------------------------\n",
       "(0008, 0005) Specific Character Set              CS: 'ISO_IR 100'\n",
       "(0008, 0016) SOP Class UID                       UI: Secondary Capture Image Storage\n",
       "(0008, 0018) SOP Instance UID                    UI: 1.2.276.0.7230010.3.1.4.8323329.28530.1517874485.775526\n",
       "(0008, 0020) Study Date                          DA: '19010101'\n",
       "(0008, 0030) Study Time                          TM: '000000.00'\n",
       "(0008, 0050) Accession Number                    SH: ''\n",
       "(0008, 0060) Modality                            CS: 'CR'\n",
       "(0008, 0064) Conversion Type                     CS: 'WSD'\n",
       "(0008, 0090) Referring Physician's Name          PN: ''\n",
       "(0008, 103e) Series Description                  LO: 'view: PA'\n",
       "(0010, 0010) Patient's Name                      PN: '0004cfab-14fd-4e49-80ba-63a80b6bddd6'\n",
       "(0010, 0020) Patient ID                          LO: '0004cfab-14fd-4e49-80ba-63a80b6bddd6'\n",
       "(0010, 0030) Patient's Birth Date                DA: ''\n",
       "(0010, 0040) Patient's Sex                       CS: 'F'\n",
       "(0010, 1010) Patient's Age                       AS: '51'\n",
       "(0018, 0015) Body Part Examined                  CS: 'CHEST'\n",
       "(0018, 5101) View Position                       CS: 'PA'\n",
       "(0020, 000d) Study Instance UID                  UI: 1.2.276.0.7230010.3.1.2.8323329.28530.1517874485.775525\n",
       "(0020, 000e) Series Instance UID                 UI: 1.2.276.0.7230010.3.1.3.8323329.28530.1517874485.775524\n",
       "(0020, 0010) Study ID                            SH: ''\n",
       "(0020, 0011) Series Number                       IS: '1'\n",
       "(0020, 0013) Instance Number                     IS: '1'\n",
       "(0020, 0020) Patient Orientation                 CS: ''\n",
       "(0028, 0002) Samples per Pixel                   US: 1\n",
       "(0028, 0004) Photometric Interpretation          CS: 'MONOCHROME2'\n",
       "(0028, 0010) Rows                                US: 1024\n",
       "(0028, 0011) Columns                             US: 1024\n",
       "(0028, 0030) Pixel Spacing                       DS: [0.14300000000000002, 0.14300000000000002]\n",
       "(0028, 0100) Bits Allocated                      US: 8\n",
       "(0028, 0101) Bits Stored                         US: 8\n",
       "(0028, 0102) High Bit                            US: 7\n",
       "(0028, 0103) Pixel Representation                US: 0\n",
       "(0028, 2110) Lossy Image Compression             CS: '01'\n",
       "(0028, 2114) Lossy Image Compression Method      CS: 'ISO_10918_1'\n",
       "(7fe0, 0010) Pixel Data                          OB: Array of 142006 elements"
      ]
     },
     "execution_count": 18,
     "metadata": {},
     "output_type": "execute_result"
    }
   ],
   "source": [
    "dcm_data"
   ]
  },
  {
   "cell_type": "code",
   "execution_count": 19,
   "id": "1b6c14d9",
   "metadata": {
    "execution": {
     "iopub.execute_input": "2022-04-03T12:32:23.051156Z",
     "iopub.status.busy": "2022-04-03T12:32:23.050602Z",
     "iopub.status.idle": "2022-04-03T12:32:23.076560Z",
     "shell.execute_reply": "2022-04-03T12:32:23.076953Z",
     "shell.execute_reply.started": "2022-04-03T12:02:43.422113Z"
    },
    "papermill": {
     "duration": 0.061171,
     "end_time": "2022-04-03T12:32:23.077099",
     "exception": false,
     "start_time": "2022-04-03T12:32:23.015928",
     "status": "completed"
    },
    "tags": []
   },
   "outputs": [],
   "source": [
    "import pylab\n",
    "im = dcm_data.pixel_array"
   ]
  },
  {
   "cell_type": "code",
   "execution_count": 20,
   "id": "d7a324f4",
   "metadata": {
    "execution": {
     "iopub.execute_input": "2022-04-03T12:32:23.143876Z",
     "iopub.status.busy": "2022-04-03T12:32:23.143347Z",
     "iopub.status.idle": "2022-04-03T12:32:23.373137Z",
     "shell.execute_reply": "2022-04-03T12:32:23.372668Z",
     "shell.execute_reply.started": "2022-04-03T12:04:19.538842Z"
    },
    "papermill": {
     "duration": 0.264949,
     "end_time": "2022-04-03T12:32:23.373271",
     "exception": false,
     "start_time": "2022-04-03T12:32:23.108322",
     "status": "completed"
    },
    "tags": []
   },
   "outputs": [
    {
     "data": {
      "text/plain": [
       "(-0.5, 1023.5, 1023.5, -0.5)"
      ]
     },
     "execution_count": 20,
     "metadata": {},
     "output_type": "execute_result"
    },
    {
     "data": {
      "image/png": "[encoded data removed]",
      "text/plain": [
       "<Figure size 432x288 with 1 Axes>"
      ]
     },
     "metadata": {
      "needs_background": "light"
     },
     "output_type": "display_data"
    }
   ],
   "source": [
    "pylab.imshow(im, cmap=pylab.cm.gist_gray)\n",
    "pylab.axis('off')"
   ]
  },
  {
   "cell_type": "code",
   "execution_count": 21,
   "id": "e592ddca",
   "metadata": {
    "execution": {
     "iopub.execute_input": "2022-04-03T12:32:23.447870Z",
     "iopub.status.busy": "2022-04-03T12:32:23.447134Z",
     "iopub.status.idle": "2022-04-03T12:32:23.452565Z",
     "shell.execute_reply": "2022-04-03T12:32:23.452098Z",
     "shell.execute_reply.started": "2022-04-03T12:07:04.542703Z"
    },
    "papermill": {
     "duration": 0.046596,
     "end_time": "2022-04-03T12:32:23.452706",
     "exception": false,
     "start_time": "2022-04-03T12:32:23.406110",
     "status": "completed"
    },
    "tags": []
   },
   "outputs": [],
   "source": [
    "def parse_data(df):\n",
    "    \"\"\"\n",
    "    Method to read a CSV file (Pandas dataframe) and parse the \n",
    "    data into the following nested dictionary:\n",
    "\n",
    "      parsed = {\n",
    "        \n",
    "        'patientId-00': {\n",
    "            'dicom': path/to/dicom/file,\n",
    "            'label': either 0 or 1 for normal or pnuemonia, \n",
    "            'boxes': list of box(es)\n",
    "        },\n",
    "        'patientId-01': {\n",
    "            'dicom': path/to/dicom/file,\n",
    "            'label': either 0 or 1 for normal or pnuemonia, \n",
    "            'boxes': list of box(es)\n",
    "        }, ...\n",
    "\n",
    "      }\n",
    "\n",
    "    \"\"\"\n",
    "    # --- Define lambda to extract coords in list [y, x, height, width]\n",
    "    extract_box = lambda row: [row['y'], row['x'], row['height'], row['width']]\n",
    "    parsed = {}\n",
    "    for n, row in df.iterrows():\n",
    "        # --- Initialize patient entry into parsed \n",
    "        pid = row['patientId']\n",
    "        if pid not in parsed:\n",
    "            parsed[pid] = {\n",
    "                'dicom': '../input/rsna-pneumonia-detection-challenge/stage_2_train_images/%s.dcm' % pid,\n",
    "                'label': row['Target'],\n",
    "                'boxes': []}\n",
    "\n",
    "        # --- Add box if opacity is present\n",
    "        if parsed[pid]['label'] == 1:\n",
    "            parsed[pid]['boxes'].append(extract_box(row))\n",
    "\n",
    "    return parsed"
   ]
  },
  {
   "cell_type": "code",
   "execution_count": 22,
   "id": "471c1e77",
   "metadata": {
    "execution": {
     "iopub.execute_input": "2022-04-03T12:32:23.533064Z",
     "iopub.status.busy": "2022-04-03T12:32:23.532483Z",
     "iopub.status.idle": "2022-04-03T12:32:23.537138Z",
     "shell.execute_reply": "2022-04-03T12:32:23.537756Z",
     "shell.execute_reply.started": "2022-04-03T12:10:37.479927Z"
    },
    "papermill": {
     "duration": 0.051948,
     "end_time": "2022-04-03T12:32:23.537947",
     "exception": false,
     "start_time": "2022-04-03T12:32:23.485999",
     "status": "completed"
    },
    "tags": []
   },
   "outputs": [
    {
     "data": {
      "text/html": [
       "<div>\n",
       "<style scoped>\n",
       "    .dataframe tbody tr th:only-of-type {\n",
       "        vertical-align: middle;\n",
       "    }\n",
       "\n",
       "    .dataframe tbody tr th {\n",
       "        vertical-align: top;\n",
       "    }\n",
       "\n",
       "    .dataframe thead th {\n",
       "        text-align: right;\n",
       "    }\n",
       "</style>\n",
       "<table border=\"1\" class=\"dataframe\">\n",
       "  <thead>\n",
       "    <tr style=\"text-align: right;\">\n",
       "      <th></th>\n",
       "      <th>patientId</th>\n",
       "      <th>x</th>\n",
       "      <th>y</th>\n",
       "      <th>width</th>\n",
       "      <th>height</th>\n",
       "      <th>Target</th>\n",
       "      <th>class</th>\n",
       "    </tr>\n",
       "  </thead>\n",
       "  <tbody>\n",
       "    <tr>\n",
       "      <th>0</th>\n",
       "      <td>0004cfab-14fd-4e49-80ba-63a80b6bddd6</td>\n",
       "      <td>NaN</td>\n",
       "      <td>NaN</td>\n",
       "      <td>NaN</td>\n",
       "      <td>NaN</td>\n",
       "      <td>0</td>\n",
       "      <td>No Lung Opacity / Not Normal</td>\n",
       "    </tr>\n",
       "    <tr>\n",
       "      <th>1</th>\n",
       "      <td>00313ee0-9eaa-42f4-b0ab-c148ed3241cd</td>\n",
       "      <td>NaN</td>\n",
       "      <td>NaN</td>\n",
       "      <td>NaN</td>\n",
       "      <td>NaN</td>\n",
       "      <td>0</td>\n",
       "      <td>No Lung Opacity / Not Normal</td>\n",
       "    </tr>\n",
       "    <tr>\n",
       "      <th>2</th>\n",
       "      <td>00322d4d-1c29-4943-afc9-b6754be640eb</td>\n",
       "      <td>NaN</td>\n",
       "      <td>NaN</td>\n",
       "      <td>NaN</td>\n",
       "      <td>NaN</td>\n",
       "      <td>0</td>\n",
       "      <td>No Lung Opacity / Not Normal</td>\n",
       "    </tr>\n",
       "    <tr>\n",
       "      <th>3</th>\n",
       "      <td>003d8fa0-6bf1-40ed-b54c-ac657f8495c5</td>\n",
       "      <td>NaN</td>\n",
       "      <td>NaN</td>\n",
       "      <td>NaN</td>\n",
       "      <td>NaN</td>\n",
       "      <td>0</td>\n",
       "      <td>Normal</td>\n",
       "    </tr>\n",
       "    <tr>\n",
       "      <th>4</th>\n",
       "      <td>00436515-870c-4b36-a041-de91049b9ab4</td>\n",
       "      <td>264.0</td>\n",
       "      <td>152.0</td>\n",
       "      <td>213.0</td>\n",
       "      <td>379.0</td>\n",
       "      <td>1</td>\n",
       "      <td>Lung Opacity</td>\n",
       "    </tr>\n",
       "  </tbody>\n",
       "</table>\n",
       "</div>"
      ],
      "text/plain": [
       "                              patientId      x      y  width  height  Target  \\\n",
       "0  0004cfab-14fd-4e49-80ba-63a80b6bddd6    NaN    NaN    NaN     NaN       0   \n",
       "1  00313ee0-9eaa-42f4-b0ab-c148ed3241cd    NaN    NaN    NaN     NaN       0   \n",
       "2  00322d4d-1c29-4943-afc9-b6754be640eb    NaN    NaN    NaN     NaN       0   \n",
       "3  003d8fa0-6bf1-40ed-b54c-ac657f8495c5    NaN    NaN    NaN     NaN       0   \n",
       "4  00436515-870c-4b36-a041-de91049b9ab4  264.0  152.0  213.0   379.0       1   \n",
       "\n",
       "                          class  \n",
       "0  No Lung Opacity / Not Normal  \n",
       "1  No Lung Opacity / Not Normal  \n",
       "2  No Lung Opacity / Not Normal  \n",
       "3                        Normal  \n",
       "4                  Lung Opacity  "
      ]
     },
     "execution_count": 22,
     "metadata": {},
     "output_type": "execute_result"
    }
   ],
   "source": [
    "new.head()"
   ]
  },
  {
   "cell_type": "code",
   "execution_count": 23,
   "id": "6f8bcd83",
   "metadata": {
    "execution": {
     "iopub.execute_input": "2022-04-03T12:32:23.658772Z",
     "iopub.status.busy": "2022-04-03T12:32:23.648312Z",
     "iopub.status.idle": "2022-04-03T12:32:23.663589Z",
     "shell.execute_reply": "2022-04-03T12:32:23.662855Z",
     "shell.execute_reply.started": "2022-04-03T12:11:40.223936Z"
    },
    "papermill": {
     "duration": 0.075835,
     "end_time": "2022-04-03T12:32:23.663761",
     "exception": false,
     "start_time": "2022-04-03T12:32:23.587926",
     "status": "completed"
    },
    "tags": []
   },
   "outputs": [
    {
     "data": {
      "text/html": [
       "<div>\n",
       "<style scoped>\n",
       "    .dataframe tbody tr th:only-of-type {\n",
       "        vertical-align: middle;\n",
       "    }\n",
       "\n",
       "    .dataframe tbody tr th {\n",
       "        vertical-align: top;\n",
       "    }\n",
       "\n",
       "    .dataframe thead th {\n",
       "        text-align: right;\n",
       "    }\n",
       "</style>\n",
       "<table border=\"1\" class=\"dataframe\">\n",
       "  <thead>\n",
       "    <tr style=\"text-align: right;\">\n",
       "      <th></th>\n",
       "      <th>patientId</th>\n",
       "      <th>x</th>\n",
       "      <th>y</th>\n",
       "      <th>width</th>\n",
       "      <th>height</th>\n",
       "      <th>Target</th>\n",
       "      <th>class</th>\n",
       "    </tr>\n",
       "  </thead>\n",
       "  <tbody>\n",
       "    <tr>\n",
       "      <th>35876</th>\n",
       "      <td>000db696-cf54-4385-b10b-6b16fbb3f985</td>\n",
       "      <td>316.0</td>\n",
       "      <td>318.0</td>\n",
       "      <td>170.0</td>\n",
       "      <td>478.0</td>\n",
       "      <td>1</td>\n",
       "      <td>Lung Opacity</td>\n",
       "    </tr>\n",
       "    <tr>\n",
       "      <th>35877</th>\n",
       "      <td>000db696-cf54-4385-b10b-6b16fbb3f985</td>\n",
       "      <td>316.0</td>\n",
       "      <td>318.0</td>\n",
       "      <td>170.0</td>\n",
       "      <td>478.0</td>\n",
       "      <td>1</td>\n",
       "      <td>Lung Opacity</td>\n",
       "    </tr>\n",
       "    <tr>\n",
       "      <th>35878</th>\n",
       "      <td>000db696-cf54-4385-b10b-6b16fbb3f985</td>\n",
       "      <td>660.0</td>\n",
       "      <td>375.0</td>\n",
       "      <td>146.0</td>\n",
       "      <td>402.0</td>\n",
       "      <td>1</td>\n",
       "      <td>Lung Opacity</td>\n",
       "    </tr>\n",
       "    <tr>\n",
       "      <th>35879</th>\n",
       "      <td>000db696-cf54-4385-b10b-6b16fbb3f985</td>\n",
       "      <td>660.0</td>\n",
       "      <td>375.0</td>\n",
       "      <td>146.0</td>\n",
       "      <td>402.0</td>\n",
       "      <td>1</td>\n",
       "      <td>Lung Opacity</td>\n",
       "    </tr>\n",
       "  </tbody>\n",
       "</table>\n",
       "</div>"
      ],
      "text/plain": [
       "                                  patientId      x      y  width  height  \\\n",
       "35876  000db696-cf54-4385-b10b-6b16fbb3f985  316.0  318.0  170.0   478.0   \n",
       "35877  000db696-cf54-4385-b10b-6b16fbb3f985  316.0  318.0  170.0   478.0   \n",
       "35878  000db696-cf54-4385-b10b-6b16fbb3f985  660.0  375.0  146.0   402.0   \n",
       "35879  000db696-cf54-4385-b10b-6b16fbb3f985  660.0  375.0  146.0   402.0   \n",
       "\n",
       "       Target         class  \n",
       "35876       1  Lung Opacity  \n",
       "35877       1  Lung Opacity  \n",
       "35878       1  Lung Opacity  \n",
       "35879       1  Lung Opacity  "
      ]
     },
     "execution_count": 23,
     "metadata": {},
     "output_type": "execute_result"
    }
   ],
   "source": [
    "new[new.patientId == '000db696-cf54-4385-b10b-6b16fbb3f985']"
   ]
  },
  {
   "cell_type": "code",
   "execution_count": 24,
   "id": "d077b313",
   "metadata": {
    "execution": {
     "iopub.execute_input": "2022-04-03T12:32:23.770902Z",
     "iopub.status.busy": "2022-04-03T12:32:23.770342Z",
     "iopub.status.idle": "2022-04-03T12:32:23.775042Z",
     "shell.execute_reply": "2022-04-03T12:32:23.774600Z",
     "shell.execute_reply.started": "2022-04-03T12:15:46.664983Z"
    },
    "papermill": {
     "duration": 0.060013,
     "end_time": "2022-04-03T12:32:23.775164",
     "exception": false,
     "start_time": "2022-04-03T12:32:23.715151",
     "status": "completed"
    },
    "tags": []
   },
   "outputs": [
    {
     "data": {
      "text/plain": [
       "(37629, 7)"
      ]
     },
     "execution_count": 24,
     "metadata": {},
     "output_type": "execute_result"
    }
   ],
   "source": [
    "new.shape"
   ]
  },
  {
   "cell_type": "code",
   "execution_count": 25,
   "id": "f3d86af1",
   "metadata": {
    "execution": {
     "iopub.execute_input": "2022-04-03T12:32:23.851522Z",
     "iopub.status.busy": "2022-04-03T12:32:23.850875Z",
     "iopub.status.idle": "2022-04-03T12:32:23.867909Z",
     "shell.execute_reply": "2022-04-03T12:32:23.867465Z",
     "shell.execute_reply.started": "2022-04-03T12:16:28.497159Z"
    },
    "papermill": {
     "duration": 0.059001,
     "end_time": "2022-04-03T12:32:23.868033",
     "exception": false,
     "start_time": "2022-04-03T12:32:23.809032",
     "status": "completed"
    },
    "tags": []
   },
   "outputs": [],
   "source": [
    "new.drop_duplicates(inplace = True)"
   ]
  },
  {
   "cell_type": "code",
   "execution_count": 26,
   "id": "4ee126ae",
   "metadata": {
    "execution": {
     "iopub.execute_input": "2022-04-03T12:32:23.942214Z",
     "iopub.status.busy": "2022-04-03T12:32:23.941672Z",
     "iopub.status.idle": "2022-04-03T12:32:23.945689Z",
     "shell.execute_reply": "2022-04-03T12:32:23.945206Z",
     "shell.execute_reply.started": "2022-04-03T12:16:31.103216Z"
    },
    "papermill": {
     "duration": 0.042924,
     "end_time": "2022-04-03T12:32:23.945815",
     "exception": false,
     "start_time": "2022-04-03T12:32:23.902891",
     "status": "completed"
    },
    "tags": []
   },
   "outputs": [
    {
     "data": {
      "text/plain": [
       "(30227, 7)"
      ]
     },
     "execution_count": 26,
     "metadata": {},
     "output_type": "execute_result"
    }
   ],
   "source": [
    "new.shape"
   ]
  },
  {
   "cell_type": "code",
   "execution_count": 27,
   "id": "39b99ba0",
   "metadata": {
    "execution": {
     "iopub.execute_input": "2022-04-03T12:32:24.028845Z",
     "iopub.status.busy": "2022-04-03T12:32:24.018481Z",
     "iopub.status.idle": "2022-04-03T12:32:26.436757Z",
     "shell.execute_reply": "2022-04-03T12:32:26.436298Z",
     "shell.execute_reply.started": "2022-04-03T12:18:06.136283Z"
    },
    "papermill": {
     "duration": 2.457397,
     "end_time": "2022-04-03T12:32:26.436869",
     "exception": false,
     "start_time": "2022-04-03T12:32:23.979472",
     "status": "completed"
    },
    "tags": []
   },
   "outputs": [],
   "source": [
    "parsed = parse_data(new)"
   ]
  },
  {
   "cell_type": "code",
   "execution_count": 28,
   "id": "cfdb82da",
   "metadata": {
    "execution": {
     "iopub.execute_input": "2022-04-03T12:32:26.512820Z",
     "iopub.status.busy": "2022-04-03T12:32:26.512167Z",
     "iopub.status.idle": "2022-04-03T12:32:26.516979Z",
     "shell.execute_reply": "2022-04-03T12:32:26.516438Z",
     "shell.execute_reply.started": "2022-04-03T12:18:08.506057Z"
    },
    "papermill": {
     "duration": 0.045516,
     "end_time": "2022-04-03T12:32:26.517101",
     "exception": false,
     "start_time": "2022-04-03T12:32:26.471585",
     "status": "completed"
    },
    "tags": []
   },
   "outputs": [
    {
     "data": {
      "text/plain": [
       "{'dicom': '../input/rsna-pneumonia-detection-challenge/stage_2_train_images/000db696-cf54-4385-b10b-6b16fbb3f985.dcm',\n",
       " 'label': 1,\n",
       " 'boxes': [[318.0, 316.0, 478.0, 170.0], [375.0, 660.0, 402.0, 146.0]]}"
      ]
     },
     "execution_count": 28,
     "metadata": {},
     "output_type": "execute_result"
    }
   ],
   "source": [
    "parsed['000db696-cf54-4385-b10b-6b16fbb3f985']"
   ]
  },
  {
   "cell_type": "code",
   "execution_count": 29,
   "id": "78cd891a",
   "metadata": {
    "execution": {
     "iopub.execute_input": "2022-04-03T12:32:26.592303Z",
     "iopub.status.busy": "2022-04-03T12:32:26.591722Z",
     "iopub.status.idle": "2022-04-03T12:32:26.595980Z",
     "shell.execute_reply": "2022-04-03T12:32:26.595520Z",
     "shell.execute_reply.started": "2022-04-03T12:18:12.535984Z"
    },
    "papermill": {
     "duration": 0.044037,
     "end_time": "2022-04-03T12:32:26.596096",
     "exception": false,
     "start_time": "2022-04-03T12:32:26.552059",
     "status": "completed"
    },
    "tags": []
   },
   "outputs": [
    {
     "data": {
      "text/plain": [
       "{'dicom': '../input/rsna-pneumonia-detection-challenge/stage_2_train_images/00293de0-a530-41dc-9621-0b3def01d06d.dcm',\n",
       " 'label': 0,\n",
       " 'boxes': []}"
      ]
     },
     "execution_count": 29,
     "metadata": {},
     "output_type": "execute_result"
    }
   ],
   "source": [
    "parsed['00293de0-a530-41dc-9621-0b3def01d06d']"
   ]
  },
  {
   "cell_type": "code",
   "execution_count": 30,
   "id": "61e1b637",
   "metadata": {
    "execution": {
     "iopub.execute_input": "2022-04-03T12:32:26.675964Z",
     "iopub.status.busy": "2022-04-03T12:32:26.674695Z",
     "iopub.status.idle": "2022-04-03T12:32:26.678563Z",
     "shell.execute_reply": "2022-04-03T12:32:26.678995Z",
     "shell.execute_reply.started": "2022-04-03T12:18:13.926713Z"
    },
    "papermill": {
     "duration": 0.048266,
     "end_time": "2022-04-03T12:32:26.679160",
     "exception": false,
     "start_time": "2022-04-03T12:32:26.630894",
     "status": "completed"
    },
    "tags": []
   },
   "outputs": [],
   "source": [
    "def draw(data):\n",
    "    \"\"\"\n",
    "    Method to draw single patient with bounding box(es) if present \n",
    "\n",
    "    \"\"\"\n",
    "    # --- Open DICOM file\n",
    "    d = pydicom.read_file(data['dicom'])\n",
    "    im = d.pixel_array\n",
    "\n",
    "    # --- Convert from single-channel grayscale to 3-channel RGB\n",
    "    im = np.stack([im] * 3, axis=2)\n",
    "\n",
    "    # --- Add boxes with random color if present\n",
    "    for box in data['boxes']:\n",
    "        rgb = np.floor(np.random.rand(3) * 256).astype('int')\n",
    "        im = overlay_box(im=im, box=box, rgb=rgb, stroke=6)\n",
    "\n",
    "    pylab.imshow(im, cmap=pylab.cm.gist_gray)\n",
    "    pylab.axis('off')\n",
    "\n",
    "def overlay_box(im, box, rgb, stroke=1):\n",
    "    \"\"\"\n",
    "    Method to overlay single box on image\n",
    "    \n",
    "    \"\"\"\n",
    "    # --- Convert coordinates to integers\n",
    "    box = [int(b) for b in box]\n",
    "    \n",
    "    # --- Extract coordinates\n",
    "    y1, x1, height, width = box\n",
    "    y2 = y1 + height\n",
    "    x2 = x1 + width\n",
    "\n",
    "    im[y1:y1 + stroke, x1:x2] = rgb\n",
    "    im[y2:y2 + stroke, x1:x2] = rgb\n",
    "    im[y1:y2, x1:x1 + stroke] = rgb\n",
    "    im[y1:y2, x2:x2 + stroke] = rgb\n",
    "\n",
    "    return im"
   ]
  },
  {
   "cell_type": "code",
   "execution_count": 31,
   "id": "dcaec600",
   "metadata": {
    "execution": {
     "iopub.execute_input": "2022-04-03T12:32:26.751701Z",
     "iopub.status.busy": "2022-04-03T12:32:26.751015Z",
     "iopub.status.idle": "2022-04-03T12:32:27.106446Z",
     "shell.execute_reply": "2022-04-03T12:32:27.106821Z",
     "shell.execute_reply.started": "2022-04-03T12:18:15.365398Z"
    },
    "papermill": {
     "duration": 0.393375,
     "end_time": "2022-04-03T12:32:27.106949",
     "exception": false,
     "start_time": "2022-04-03T12:32:26.713574",
     "status": "completed"
    },
    "tags": []
   },
   "outputs": [
    {
     "data": {
      "image/png": "[encoded data removed]",
      "text/plain": [
       "<Figure size 432x288 with 1 Axes>"
      ]
     },
     "metadata": {
      "needs_background": "light"
     },
     "output_type": "display_data"
    }
   ],
   "source": [
    "draw(parsed['000db696-cf54-4385-b10b-6b16fbb3f985'])"
   ]
  },
  {
   "cell_type": "code",
   "execution_count": null,
   "id": "f7d3be0f",
   "metadata": {
    "papermill": {
     "duration": 0.034683,
     "end_time": "2022-04-03T12:32:27.175682",
     "exception": false,
     "start_time": "2022-04-03T12:32:27.140999",
     "status": "completed"
    },
    "tags": []
   },
   "outputs": [],
   "source": []
  },
  {
   "cell_type": "code",
   "execution_count": null,
   "id": "6afd2ad5",
   "metadata": {
    "papermill": {
     "duration": 0.037441,
     "end_time": "2022-04-03T12:32:27.247561",
     "exception": false,
     "start_time": "2022-04-03T12:32:27.210120",
     "status": "completed"
    },
    "tags": []
   },
   "outputs": [],
   "source": []
  }
 ],
 "metadata": {
  "kernelspec": {
   "display_name": "Python 3",
   "language": "python",
   "name": "python3"
  },
  "language_info": {
   "codemirror_mode": {
    "name": "ipython",
    "version": 3
   },
   "file_extension": ".py",
   "mimetype": "text/x-python",
   "name": "python",
   "nbconvert_exporter": "python",
   "pygments_lexer": "ipython3",
   "version": "3.7.12"
  },
  "papermill": {
   "default_parameters": {},
   "duration": 19.70947,
   "end_time": "2022-04-03T12:32:28.192818",
   "environment_variables": {},
   "exception": null,
   "input_path": "__notebook__.ipynb",
   "output_path": "__notebook__.ipynb",
   "parameters": {},
   "start_time": "2022-04-03T12:32:08.483348",
   "version": "2.3.3"
  }
 },
 "nbformat": 4,
 "nbformat_minor": 5
}
